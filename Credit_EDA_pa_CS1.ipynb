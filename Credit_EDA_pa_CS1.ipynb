{
  "nbformat": 4,
  "nbformat_minor": 0,
  "metadata": {
    "colab": {
      "name": "Credit_EDA_pa_CS1.ipynb",
      "version": "0.3.2",
      "provenance": [],
      "collapsed_sections": []
    },
    "kernelspec": {
      "name": "python3",
      "display_name": "Python 3"
    }
  },
  "cells": [
    {
      "cell_type": "markdown",
      "metadata": {
        "id": "lseC1LwFYHfB",
        "colab_type": "text"
      },
      "source": [
        "This notebook contains the analysis of the **\"previous_application\"** dataset considering a sample data size of first 30,000 rows of data..."
      ]
    },
    {
      "cell_type": "code",
      "metadata": {
        "id": "ttM-ud3a0aVl",
        "colab_type": "code",
        "colab": {}
      },
      "source": [
        "import numpy as np\n",
        "import pandas as pd\n",
        "import matplotlib.pyplot as plt\n",
        "import seaborn as sns"
      ],
      "execution_count": 0,
      "outputs": []
    },
    {
      "cell_type": "code",
      "metadata": {
        "id": "SphFTf-xC3AP",
        "colab_type": "code",
        "colab": {}
      },
      "source": [
        "# Installing necessary libraries into the python environment\n",
        "!pip install --upgrade -q gspread"
      ],
      "execution_count": 0,
      "outputs": []
    },
    {
      "cell_type": "code",
      "metadata": {
        "id": "Dbe9eN6MXGuR",
        "colab_type": "code",
        "colab": {}
      },
      "source": [
        "# Getting necessary permissions from user to access google credentials\n",
        "\n",
        "from google.colab import auth\n",
        "auth.authenticate_user()\n",
        "\n",
        "import gspread\n",
        "from oauth2client.client import GoogleCredentials\n",
        "\n",
        "gc = gspread.authorize(GoogleCredentials.get_application_default())"
      ],
      "execution_count": 0,
      "outputs": []
    },
    {
      "cell_type": "code",
      "metadata": {
        "id": "RFSANLI2DK69",
        "colab_type": "code",
        "outputId": "ea4092bb-a4a7-4d60-e122-518c4a0bac90",
        "colab": {
          "base_uri": "https://localhost:8080/",
          "height": 292
        }
      },
      "source": [
        "# Reading the modified previous_application.csv dataset by taking a sample size of 30,000 rows of data\n",
        "# Making a data-frame named df2 to store the dataset\n",
        "spreadsheet2 = gc.open_by_url('https://docs.google.com/spreadsheets/d/13H5iZiTX5lbH146EwT4R8Wyyopka7DK620ZcCQkjQlc/edit#gid=410992393')\n",
        "sheet2 =  spreadsheet2.get_worksheet(0)\n",
        "df2 = pd.DataFrame(sheet2.get_all_records())\n",
        "df2.head()"
      ],
      "execution_count": 19,
      "outputs": [
        {
          "output_type": "execute_result",
          "data": {
            "text/html": [
              "<div>\n",
              "<style scoped>\n",
              "    .dataframe tbody tr th:only-of-type {\n",
              "        vertical-align: middle;\n",
              "    }\n",
              "\n",
              "    .dataframe tbody tr th {\n",
              "        vertical-align: top;\n",
              "    }\n",
              "\n",
              "    .dataframe thead th {\n",
              "        text-align: right;\n",
              "    }\n",
              "</style>\n",
              "<table border=\"1\" class=\"dataframe\">\n",
              "  <thead>\n",
              "    <tr style=\"text-align: right;\">\n",
              "      <th></th>\n",
              "      <th>AMT_ANNUITY</th>\n",
              "      <th>AMT_APPLICATION</th>\n",
              "      <th>AMT_CREDIT</th>\n",
              "      <th>AMT_DOWN_PAYMENT</th>\n",
              "      <th>AMT_GOODS_PRICE</th>\n",
              "      <th>CHANNEL_TYPE</th>\n",
              "      <th>CNT_PAYMENT</th>\n",
              "      <th>CODE_REJECT_REASON</th>\n",
              "      <th>DAYS_DECISION</th>\n",
              "      <th>DAYS_FIRST_DRAWING</th>\n",
              "      <th>DAYS_FIRST_DUE</th>\n",
              "      <th>DAYS_LAST_DUE</th>\n",
              "      <th>DAYS_LAST_DUE_1ST_VERSION</th>\n",
              "      <th>DAYS_TERMINATION</th>\n",
              "      <th>FLAG_LAST_APPL_PER_CONTRACT</th>\n",
              "      <th>HOUR_APPR_PROCESS_START</th>\n",
              "      <th>NAME_CASH_LOAN_PURPOSE</th>\n",
              "      <th>NAME_CLIENT_TYPE</th>\n",
              "      <th>NAME_CONTRACT_STATUS</th>\n",
              "      <th>NAME_CONTRACT_TYPE</th>\n",
              "      <th>NAME_GOODS_CATEGORY</th>\n",
              "      <th>NAME_PAYMENT_TYPE</th>\n",
              "      <th>NAME_PORTFOLIO</th>\n",
              "      <th>NAME_PRODUCT_TYPE</th>\n",
              "      <th>NAME_SELLER_INDUSTRY</th>\n",
              "      <th>NAME_TYPE_SUITE</th>\n",
              "      <th>NAME_YIELD_GROUP</th>\n",
              "      <th>NFLAG_INSURED_ON_APPROVAL</th>\n",
              "      <th>NFLAG_LAST_APPL_IN_DAY</th>\n",
              "      <th>PRODUCT_COMBINATION</th>\n",
              "      <th>RATE_DOWN_PAYMENT</th>\n",
              "      <th>RATE_INTEREST_PRIMARY</th>\n",
              "      <th>RATE_INTEREST_PRIVILEGED</th>\n",
              "      <th>SELLERPLACE_AREA</th>\n",
              "      <th>SK_ID_CURR</th>\n",
              "      <th>SK_ID_PREV</th>\n",
              "      <th>WEEKDAY_APPR_PROCESS_START</th>\n",
              "    </tr>\n",
              "  </thead>\n",
              "  <tbody>\n",
              "    <tr>\n",
              "      <th>0</th>\n",
              "      <td>1730.43</td>\n",
              "      <td>17145.0</td>\n",
              "      <td>17145.0</td>\n",
              "      <td>0</td>\n",
              "      <td>17145</td>\n",
              "      <td>Country-wide</td>\n",
              "      <td>12</td>\n",
              "      <td>XAP</td>\n",
              "      <td>-73</td>\n",
              "      <td>365243</td>\n",
              "      <td>-42</td>\n",
              "      <td>-42</td>\n",
              "      <td>300</td>\n",
              "      <td>-37</td>\n",
              "      <td>Y</td>\n",
              "      <td>15</td>\n",
              "      <td>XAP</td>\n",
              "      <td>Repeater</td>\n",
              "      <td>Approved</td>\n",
              "      <td>Consumer loans</td>\n",
              "      <td>Mobile</td>\n",
              "      <td>Cash through the bank</td>\n",
              "      <td>POS</td>\n",
              "      <td>XNA</td>\n",
              "      <td>Connectivity</td>\n",
              "      <td></td>\n",
              "      <td>middle</td>\n",
              "      <td>0</td>\n",
              "      <td>1</td>\n",
              "      <td>POS mobile with interest</td>\n",
              "      <td>0</td>\n",
              "      <td>0.182832</td>\n",
              "      <td>0.867336</td>\n",
              "      <td>35</td>\n",
              "      <td>271877</td>\n",
              "      <td>2030495</td>\n",
              "      <td>SATURDAY</td>\n",
              "    </tr>\n",
              "    <tr>\n",
              "      <th>1</th>\n",
              "      <td>25188.6</td>\n",
              "      <td>607500.0</td>\n",
              "      <td>679671.0</td>\n",
              "      <td></td>\n",
              "      <td>607500</td>\n",
              "      <td>Contact center</td>\n",
              "      <td>36</td>\n",
              "      <td>XAP</td>\n",
              "      <td>-164</td>\n",
              "      <td>365243</td>\n",
              "      <td>-134</td>\n",
              "      <td>365243</td>\n",
              "      <td>916</td>\n",
              "      <td>365243</td>\n",
              "      <td>Y</td>\n",
              "      <td>11</td>\n",
              "      <td>XNA</td>\n",
              "      <td>Repeater</td>\n",
              "      <td>Approved</td>\n",
              "      <td>Cash loans</td>\n",
              "      <td>XNA</td>\n",
              "      <td>XNA</td>\n",
              "      <td>Cash</td>\n",
              "      <td>x-sell</td>\n",
              "      <td>XNA</td>\n",
              "      <td>Unaccompanied</td>\n",
              "      <td>low_action</td>\n",
              "      <td>1</td>\n",
              "      <td>1</td>\n",
              "      <td>Cash X-Sell: low</td>\n",
              "      <td></td>\n",
              "      <td></td>\n",
              "      <td></td>\n",
              "      <td>-1</td>\n",
              "      <td>108129</td>\n",
              "      <td>2802425</td>\n",
              "      <td>THURSDAY</td>\n",
              "    </tr>\n",
              "    <tr>\n",
              "      <th>2</th>\n",
              "      <td>15060.7</td>\n",
              "      <td>112500.0</td>\n",
              "      <td>136444.5</td>\n",
              "      <td></td>\n",
              "      <td>112500</td>\n",
              "      <td>Credit and cash offices</td>\n",
              "      <td>12</td>\n",
              "      <td>XAP</td>\n",
              "      <td>-301</td>\n",
              "      <td>365243</td>\n",
              "      <td>-271</td>\n",
              "      <td>365243</td>\n",
              "      <td>59</td>\n",
              "      <td>365243</td>\n",
              "      <td>Y</td>\n",
              "      <td>11</td>\n",
              "      <td>XNA</td>\n",
              "      <td>Repeater</td>\n",
              "      <td>Approved</td>\n",
              "      <td>Cash loans</td>\n",
              "      <td>XNA</td>\n",
              "      <td>Cash through the bank</td>\n",
              "      <td>Cash</td>\n",
              "      <td>x-sell</td>\n",
              "      <td>XNA</td>\n",
              "      <td>Spouse, partner</td>\n",
              "      <td>high</td>\n",
              "      <td>1</td>\n",
              "      <td>1</td>\n",
              "      <td>Cash X-Sell: high</td>\n",
              "      <td></td>\n",
              "      <td></td>\n",
              "      <td></td>\n",
              "      <td>-1</td>\n",
              "      <td>122040</td>\n",
              "      <td>2523466</td>\n",
              "      <td>TUESDAY</td>\n",
              "    </tr>\n",
              "    <tr>\n",
              "      <th>3</th>\n",
              "      <td>47041.3</td>\n",
              "      <td>450000.0</td>\n",
              "      <td>470790.0</td>\n",
              "      <td></td>\n",
              "      <td>450000</td>\n",
              "      <td>Credit and cash offices</td>\n",
              "      <td>12</td>\n",
              "      <td>XAP</td>\n",
              "      <td>-512</td>\n",
              "      <td>365243</td>\n",
              "      <td>-482</td>\n",
              "      <td>-182</td>\n",
              "      <td>-152</td>\n",
              "      <td>-177</td>\n",
              "      <td>Y</td>\n",
              "      <td>7</td>\n",
              "      <td>XNA</td>\n",
              "      <td>Repeater</td>\n",
              "      <td>Approved</td>\n",
              "      <td>Cash loans</td>\n",
              "      <td>XNA</td>\n",
              "      <td>Cash through the bank</td>\n",
              "      <td>Cash</td>\n",
              "      <td>x-sell</td>\n",
              "      <td>XNA</td>\n",
              "      <td></td>\n",
              "      <td>middle</td>\n",
              "      <td>1</td>\n",
              "      <td>1</td>\n",
              "      <td>Cash X-Sell: middle</td>\n",
              "      <td></td>\n",
              "      <td></td>\n",
              "      <td></td>\n",
              "      <td>-1</td>\n",
              "      <td>176158</td>\n",
              "      <td>2819243</td>\n",
              "      <td>MONDAY</td>\n",
              "    </tr>\n",
              "    <tr>\n",
              "      <th>4</th>\n",
              "      <td>31924.4</td>\n",
              "      <td>337500.0</td>\n",
              "      <td>404055.0</td>\n",
              "      <td></td>\n",
              "      <td>337500</td>\n",
              "      <td>Credit and cash offices</td>\n",
              "      <td>24</td>\n",
              "      <td>HC</td>\n",
              "      <td>-781</td>\n",
              "      <td></td>\n",
              "      <td></td>\n",
              "      <td></td>\n",
              "      <td></td>\n",
              "      <td></td>\n",
              "      <td>Y</td>\n",
              "      <td>9</td>\n",
              "      <td>Repairs</td>\n",
              "      <td>Repeater</td>\n",
              "      <td>Refused</td>\n",
              "      <td>Cash loans</td>\n",
              "      <td>XNA</td>\n",
              "      <td>Cash through the bank</td>\n",
              "      <td>Cash</td>\n",
              "      <td>walk-in</td>\n",
              "      <td>XNA</td>\n",
              "      <td></td>\n",
              "      <td>high</td>\n",
              "      <td></td>\n",
              "      <td>1</td>\n",
              "      <td>Cash Street: high</td>\n",
              "      <td></td>\n",
              "      <td></td>\n",
              "      <td></td>\n",
              "      <td>-1</td>\n",
              "      <td>202054</td>\n",
              "      <td>1784265</td>\n",
              "      <td>THURSDAY</td>\n",
              "    </tr>\n",
              "  </tbody>\n",
              "</table>\n",
              "</div>"
            ],
            "text/plain": [
              "  AMT_ANNUITY  AMT_APPLICATION  ...  SK_ID_PREV WEEKDAY_APPR_PROCESS_START\n",
              "0     1730.43          17145.0  ...     2030495                   SATURDAY\n",
              "1     25188.6         607500.0  ...     2802425                   THURSDAY\n",
              "2     15060.7         112500.0  ...     2523466                    TUESDAY\n",
              "3     47041.3         450000.0  ...     2819243                     MONDAY\n",
              "4     31924.4         337500.0  ...     1784265                   THURSDAY\n",
              "\n",
              "[5 rows x 37 columns]"
            ]
          },
          "metadata": {
            "tags": []
          },
          "execution_count": 19
        }
      ]
    },
    {
      "cell_type": "code",
      "metadata": {
        "id": "O9IAkbL8De59",
        "colab_type": "code",
        "outputId": "1befd29a-cea4-4e87-a7fb-1436e41ac691",
        "colab": {
          "base_uri": "https://localhost:8080/",
          "height": 34
        }
      },
      "source": [
        "# Getting the shape of the dataset, i.e., no. of rows & columns in the dataset\n",
        "df2.shape"
      ],
      "execution_count": 0,
      "outputs": [
        {
          "output_type": "execute_result",
          "data": {
            "text/plain": [
              "(30000, 37)"
            ]
          },
          "metadata": {
            "tags": []
          },
          "execution_count": 10
        }
      ]
    },
    {
      "cell_type": "code",
      "metadata": {
        "id": "RasYAhGaESHj",
        "colab_type": "code",
        "outputId": "42296779-b0e6-4da8-aba1-aedddf31f0f7",
        "colab": {
          "base_uri": "https://localhost:8080/",
          "height": 297
        }
      },
      "source": [
        "# Describing the properties of the dataset\n",
        "df2.describe()"
      ],
      "execution_count": 0,
      "outputs": [
        {
          "output_type": "execute_result",
          "data": {
            "text/html": [
              "<div>\n",
              "<style scoped>\n",
              "    .dataframe tbody tr th:only-of-type {\n",
              "        vertical-align: middle;\n",
              "    }\n",
              "\n",
              "    .dataframe tbody tr th {\n",
              "        vertical-align: top;\n",
              "    }\n",
              "\n",
              "    .dataframe thead th {\n",
              "        text-align: right;\n",
              "    }\n",
              "</style>\n",
              "<table border=\"1\" class=\"dataframe\">\n",
              "  <thead>\n",
              "    <tr style=\"text-align: right;\">\n",
              "      <th></th>\n",
              "      <th>AMT_APPLICATION</th>\n",
              "      <th>AMT_CREDIT</th>\n",
              "      <th>DAYS_DECISION</th>\n",
              "      <th>HOUR_APPR_PROCESS_START</th>\n",
              "      <th>NFLAG_LAST_APPL_IN_DAY</th>\n",
              "      <th>SELLERPLACE_AREA</th>\n",
              "      <th>SK_ID_CURR</th>\n",
              "      <th>SK_ID_PREV</th>\n",
              "    </tr>\n",
              "  </thead>\n",
              "  <tbody>\n",
              "    <tr>\n",
              "      <th>count</th>\n",
              "      <td>3.000000e+04</td>\n",
              "      <td>3.000000e+04</td>\n",
              "      <td>30000.000000</td>\n",
              "      <td>30000.000000</td>\n",
              "      <td>30000.000000</td>\n",
              "      <td>3.000000e+04</td>\n",
              "      <td>30000.000000</td>\n",
              "      <td>3.000000e+04</td>\n",
              "    </tr>\n",
              "    <tr>\n",
              "      <th>mean</th>\n",
              "      <td>1.685651e+05</td>\n",
              "      <td>1.881158e+05</td>\n",
              "      <td>-907.416300</td>\n",
              "      <td>12.479133</td>\n",
              "      <td>0.996867</td>\n",
              "      <td>4.671433e+02</td>\n",
              "      <td>278804.124800</td>\n",
              "      <td>1.920259e+06</td>\n",
              "    </tr>\n",
              "    <tr>\n",
              "      <th>std</th>\n",
              "      <td>2.816287e+05</td>\n",
              "      <td>3.086342e+05</td>\n",
              "      <td>788.728356</td>\n",
              "      <td>3.330776</td>\n",
              "      <td>0.055889</td>\n",
              "      <td>2.313088e+04</td>\n",
              "      <td>102755.009784</td>\n",
              "      <td>5.354031e+05</td>\n",
              "    </tr>\n",
              "    <tr>\n",
              "      <th>min</th>\n",
              "      <td>0.000000e+00</td>\n",
              "      <td>0.000000e+00</td>\n",
              "      <td>-2922.000000</td>\n",
              "      <td>0.000000</td>\n",
              "      <td>0.000000</td>\n",
              "      <td>-1.000000e+00</td>\n",
              "      <td>100007.000000</td>\n",
              "      <td>1.000009e+06</td>\n",
              "    </tr>\n",
              "    <tr>\n",
              "      <th>25%</th>\n",
              "      <td>2.245500e+04</td>\n",
              "      <td>2.648588e+04</td>\n",
              "      <td>-1355.000000</td>\n",
              "      <td>10.000000</td>\n",
              "      <td>1.000000</td>\n",
              "      <td>-1.000000e+00</td>\n",
              "      <td>189589.000000</td>\n",
              "      <td>1.455869e+06</td>\n",
              "    </tr>\n",
              "    <tr>\n",
              "      <th>50%</th>\n",
              "      <td>7.195500e+04</td>\n",
              "      <td>7.908525e+04</td>\n",
              "      <td>-607.000000</td>\n",
              "      <td>12.000000</td>\n",
              "      <td>1.000000</td>\n",
              "      <td>1.500000e+01</td>\n",
              "      <td>278329.500000</td>\n",
              "      <td>1.917674e+06</td>\n",
              "    </tr>\n",
              "    <tr>\n",
              "      <th>75%</th>\n",
              "      <td>1.800000e+05</td>\n",
              "      <td>1.952348e+05</td>\n",
              "      <td>-295.000000</td>\n",
              "      <td>15.000000</td>\n",
              "      <td>1.000000</td>\n",
              "      <td>1.000000e+02</td>\n",
              "      <td>368501.750000</td>\n",
              "      <td>2.385551e+06</td>\n",
              "    </tr>\n",
              "    <tr>\n",
              "      <th>max</th>\n",
              "      <td>3.150000e+06</td>\n",
              "      <td>4.104351e+06</td>\n",
              "      <td>-2.000000</td>\n",
              "      <td>23.000000</td>\n",
              "      <td>1.000000</td>\n",
              "      <td>4.000000e+06</td>\n",
              "      <td>456254.000000</td>\n",
              "      <td>2.845367e+06</td>\n",
              "    </tr>\n",
              "  </tbody>\n",
              "</table>\n",
              "</div>"
            ],
            "text/plain": [
              "       AMT_APPLICATION    AMT_CREDIT  ...     SK_ID_CURR    SK_ID_PREV\n",
              "count     3.000000e+04  3.000000e+04  ...   30000.000000  3.000000e+04\n",
              "mean      1.685651e+05  1.881158e+05  ...  278804.124800  1.920259e+06\n",
              "std       2.816287e+05  3.086342e+05  ...  102755.009784  5.354031e+05\n",
              "min       0.000000e+00  0.000000e+00  ...  100007.000000  1.000009e+06\n",
              "25%       2.245500e+04  2.648588e+04  ...  189589.000000  1.455869e+06\n",
              "50%       7.195500e+04  7.908525e+04  ...  278329.500000  1.917674e+06\n",
              "75%       1.800000e+05  1.952348e+05  ...  368501.750000  2.385551e+06\n",
              "max       3.150000e+06  4.104351e+06  ...  456254.000000  2.845367e+06\n",
              "\n",
              "[8 rows x 8 columns]"
            ]
          },
          "metadata": {
            "tags": []
          },
          "execution_count": 11
        }
      ]
    },
    {
      "cell_type": "code",
      "metadata": {
        "id": "o4f9kqkqEUeN",
        "colab_type": "code",
        "outputId": "e42af807-7c05-4281-eadf-b271befb8a34",
        "colab": {
          "base_uri": "https://localhost:8080/",
          "height": 663
        }
      },
      "source": [
        "((df2.isnull() | df2.isna()).sum() * 100 / df2.index.size).round(2) "
      ],
      "execution_count": 0,
      "outputs": [
        {
          "output_type": "execute_result",
          "data": {
            "text/plain": [
              "AMT_ANNUITY                    0.0\n",
              "AMT_APPLICATION                0.0\n",
              "AMT_CREDIT                     0.0\n",
              "AMT_DOWN_PAYMENT               0.0\n",
              "AMT_GOODS_PRICE                0.0\n",
              "CHANNEL_TYPE                   0.0\n",
              "CNT_PAYMENT                    0.0\n",
              "CODE_REJECT_REASON             0.0\n",
              "DAYS_DECISION                  0.0\n",
              "DAYS_FIRST_DRAWING             0.0\n",
              "DAYS_FIRST_DUE                 0.0\n",
              "DAYS_LAST_DUE                  0.0\n",
              "DAYS_LAST_DUE_1ST_VERSION      0.0\n",
              "DAYS_TERMINATION               0.0\n",
              "FLAG_LAST_APPL_PER_CONTRACT    0.0\n",
              "HOUR_APPR_PROCESS_START        0.0\n",
              "NAME_CASH_LOAN_PURPOSE         0.0\n",
              "NAME_CLIENT_TYPE               0.0\n",
              "NAME_CONTRACT_STATUS           0.0\n",
              "NAME_CONTRACT_TYPE             0.0\n",
              "NAME_GOODS_CATEGORY            0.0\n",
              "NAME_PAYMENT_TYPE              0.0\n",
              "NAME_PORTFOLIO                 0.0\n",
              "NAME_PRODUCT_TYPE              0.0\n",
              "NAME_SELLER_INDUSTRY           0.0\n",
              "NAME_TYPE_SUITE                0.0\n",
              "NAME_YIELD_GROUP               0.0\n",
              "NFLAG_INSURED_ON_APPROVAL      0.0\n",
              "NFLAG_LAST_APPL_IN_DAY         0.0\n",
              "PRODUCT_COMBINATION            0.0\n",
              "RATE_DOWN_PAYMENT              0.0\n",
              "RATE_INTEREST_PRIMARY          0.0\n",
              "RATE_INTEREST_PRIVILEGED       0.0\n",
              "SELLERPLACE_AREA               0.0\n",
              "SK_ID_CURR                     0.0\n",
              "SK_ID_PREV                     0.0\n",
              "WEEKDAY_APPR_PROCESS_START     0.0\n",
              "dtype: float64"
            ]
          },
          "metadata": {
            "tags": []
          },
          "execution_count": 9
        }
      ]
    },
    {
      "cell_type": "code",
      "metadata": {
        "id": "x7kTQOinEfD7",
        "colab_type": "code",
        "outputId": "584d26fa-0be9-415c-8f72-6f4ba973a66c",
        "colab": {
          "base_uri": "https://localhost:8080/",
          "height": 34
        }
      },
      "source": [
        "# Removing the columns of the sample dataset where 50% and above data is missing in any particular column\n",
        "df2 = df2.dropna(thresh=df2.shape[0]*0.5,how='all',axis=1)\n",
        "df2.shape"
      ],
      "execution_count": 0,
      "outputs": [
        {
          "output_type": "execute_result",
          "data": {
            "text/plain": [
              "(30000, 37)"
            ]
          },
          "metadata": {
            "tags": []
          },
          "execution_count": 12
        }
      ]
    },
    {
      "cell_type": "code",
      "metadata": {
        "id": "J4EfMzNfatS_",
        "colab_type": "code",
        "colab": {
          "base_uri": "https://localhost:8080/",
          "height": 731
        },
        "outputId": "76aab9a4-5e43-4d6d-dd4b-2c815816e51b"
      },
      "source": [
        "# Getting the overall information about the dataset\n",
        "df2.info()"
      ],
      "execution_count": 20,
      "outputs": [
        {
          "output_type": "stream",
          "text": [
            "<class 'pandas.core.frame.DataFrame'>\n",
            "RangeIndex: 30000 entries, 0 to 29999\n",
            "Data columns (total 37 columns):\n",
            "AMT_ANNUITY                    30000 non-null object\n",
            "AMT_APPLICATION                30000 non-null float64\n",
            "AMT_CREDIT                     30000 non-null float64\n",
            "AMT_DOWN_PAYMENT               30000 non-null object\n",
            "AMT_GOODS_PRICE                30000 non-null object\n",
            "CHANNEL_TYPE                   30000 non-null object\n",
            "CNT_PAYMENT                    30000 non-null object\n",
            "CODE_REJECT_REASON             30000 non-null object\n",
            "DAYS_DECISION                  30000 non-null int64\n",
            "DAYS_FIRST_DRAWING             30000 non-null object\n",
            "DAYS_FIRST_DUE                 30000 non-null object\n",
            "DAYS_LAST_DUE                  30000 non-null object\n",
            "DAYS_LAST_DUE_1ST_VERSION      30000 non-null object\n",
            "DAYS_TERMINATION               30000 non-null object\n",
            "FLAG_LAST_APPL_PER_CONTRACT    30000 non-null object\n",
            "HOUR_APPR_PROCESS_START        30000 non-null int64\n",
            "NAME_CASH_LOAN_PURPOSE         30000 non-null object\n",
            "NAME_CLIENT_TYPE               30000 non-null object\n",
            "NAME_CONTRACT_STATUS           30000 non-null object\n",
            "NAME_CONTRACT_TYPE             30000 non-null object\n",
            "NAME_GOODS_CATEGORY            30000 non-null object\n",
            "NAME_PAYMENT_TYPE              30000 non-null object\n",
            "NAME_PORTFOLIO                 30000 non-null object\n",
            "NAME_PRODUCT_TYPE              30000 non-null object\n",
            "NAME_SELLER_INDUSTRY           30000 non-null object\n",
            "NAME_TYPE_SUITE                30000 non-null object\n",
            "NAME_YIELD_GROUP               30000 non-null object\n",
            "NFLAG_INSURED_ON_APPROVAL      30000 non-null object\n",
            "NFLAG_LAST_APPL_IN_DAY         30000 non-null int64\n",
            "PRODUCT_COMBINATION            30000 non-null object\n",
            "RATE_DOWN_PAYMENT              30000 non-null object\n",
            "RATE_INTEREST_PRIMARY          30000 non-null object\n",
            "RATE_INTEREST_PRIVILEGED       30000 non-null object\n",
            "SELLERPLACE_AREA               30000 non-null int64\n",
            "SK_ID_CURR                     30000 non-null int64\n",
            "SK_ID_PREV                     30000 non-null int64\n",
            "WEEKDAY_APPR_PROCESS_START     30000 non-null object\n",
            "dtypes: float64(2), int64(6), object(29)\n",
            "memory usage: 8.5+ MB\n"
          ],
          "name": "stdout"
        }
      ]
    },
    {
      "cell_type": "code",
      "metadata": {
        "id": "f5G5WBEUElYW",
        "colab_type": "code",
        "outputId": "552effb1-8054-45a8-8bca-e20ecee07e6c",
        "colab": {
          "base_uri": "https://localhost:8080/",
          "height": 663
        }
      },
      "source": [
        "# Number of unique values in each column\n",
        "# Can be used to get the continuous and categorical variables\n",
        "df2.nunique()"
      ],
      "execution_count": 0,
      "outputs": [
        {
          "output_type": "execute_result",
          "data": {
            "text/plain": [
              "AMT_ANNUITY                    18370\n",
              "AMT_APPLICATION                 9424\n",
              "AMT_CREDIT                     13131\n",
              "AMT_DOWN_PAYMENT                3213\n",
              "AMT_GOODS_PRICE                 9425\n",
              "CHANNEL_TYPE                       8\n",
              "CNT_PAYMENT                       28\n",
              "CODE_REJECT_REASON                 9\n",
              "DAYS_DECISION                   2904\n",
              "DAYS_FIRST_DRAWING               745\n",
              "DAYS_FIRST_DUE                  2857\n",
              "DAYS_LAST_DUE                   2696\n",
              "DAYS_LAST_DUE_1ST_VERSION       3765\n",
              "DAYS_TERMINATION                2597\n",
              "FLAG_LAST_APPL_PER_CONTRACT        2\n",
              "HOUR_APPR_PROCESS_START           24\n",
              "NAME_CASH_LOAN_PURPOSE            24\n",
              "NAME_CLIENT_TYPE                   4\n",
              "NAME_CONTRACT_STATUS               4\n",
              "NAME_CONTRACT_TYPE                 4\n",
              "NAME_GOODS_CATEGORY               26\n",
              "NAME_PAYMENT_TYPE                  4\n",
              "NAME_PORTFOLIO                     5\n",
              "NAME_PRODUCT_TYPE                  3\n",
              "NAME_SELLER_INDUSTRY              11\n",
              "NAME_TYPE_SUITE                    8\n",
              "NAME_YIELD_GROUP                   5\n",
              "NFLAG_INSURED_ON_APPROVAL          3\n",
              "NFLAG_LAST_APPL_IN_DAY             2\n",
              "PRODUCT_COMBINATION               18\n",
              "RATE_DOWN_PAYMENT               6635\n",
              "RATE_INTEREST_PRIMARY             23\n",
              "RATE_INTEREST_PRIVILEGED          10\n",
              "SELLERPLACE_AREA                1028\n",
              "SK_ID_CURR                     27837\n",
              "SK_ID_PREV                     30000\n",
              "WEEKDAY_APPR_PROCESS_START         7\n",
              "dtype: int64"
            ]
          },
          "metadata": {
            "tags": []
          },
          "execution_count": 12
        }
      ]
    },
    {
      "cell_type": "code",
      "metadata": {
        "id": "xHSOJ3tDi-ib",
        "colab_type": "code",
        "colab": {
          "base_uri": "https://localhost:8080/",
          "height": 34
        },
        "outputId": "52fe395e-b9a0-474f-dd1d-367f68ffcb4e"
      },
      "source": [
        "# Checking the dtype for \"AMT_GOODS_PRICE\"\n",
        "df2['AMT_GOODS_PRICE'].dtypes"
      ],
      "execution_count": 63,
      "outputs": [
        {
          "output_type": "execute_result",
          "data": {
            "text/plain": [
              "dtype('float64')"
            ]
          },
          "metadata": {
            "tags": []
          },
          "execution_count": 63
        }
      ]
    },
    {
      "cell_type": "code",
      "metadata": {
        "id": "N4DXpt-FjDhD",
        "colab_type": "code",
        "colab": {
          "base_uri": "https://localhost:8080/",
          "height": 34
        },
        "outputId": "effea8b8-eb27-41ee-ae6a-4dcc5ad2019a"
      },
      "source": [
        "# Converting the data type of \"AMT_GOODS_PRICE\" for further analysis\n",
        "df2['AMT_GOODS_PRICE'] = df2['AMT_GOODS_PRICE'].apply(pd.to_numeric) \n",
        "print(df2['AMT_GOODS_PRICE'].dtypes)"
      ],
      "execution_count": 76,
      "outputs": [
        {
          "output_type": "stream",
          "text": [
            "float64\n"
          ],
          "name": "stdout"
        }
      ]
    },
    {
      "cell_type": "code",
      "metadata": {
        "id": "2o7RAKswbQdI",
        "colab_type": "code",
        "colab": {
          "base_uri": "https://localhost:8080/",
          "height": 328
        },
        "outputId": "f2969d6b-5b07-47b4-fc9a-502cb869232e"
      },
      "source": [
        "# Finding the correlation among all the numerical data variables in the \"previous_application_modified\" dataset\n",
        "df2.corr()"
      ],
      "execution_count": 61,
      "outputs": [
        {
          "output_type": "execute_result",
          "data": {
            "text/html": [
              "<div>\n",
              "<style scoped>\n",
              "    .dataframe tbody tr th:only-of-type {\n",
              "        vertical-align: middle;\n",
              "    }\n",
              "\n",
              "    .dataframe tbody tr th {\n",
              "        vertical-align: top;\n",
              "    }\n",
              "\n",
              "    .dataframe thead th {\n",
              "        text-align: right;\n",
              "    }\n",
              "</style>\n",
              "<table border=\"1\" class=\"dataframe\">\n",
              "  <thead>\n",
              "    <tr style=\"text-align: right;\">\n",
              "      <th></th>\n",
              "      <th>AMT_APPLICATION</th>\n",
              "      <th>AMT_CREDIT</th>\n",
              "      <th>AMT_GOODS_PRICE</th>\n",
              "      <th>DAYS_DECISION</th>\n",
              "      <th>HOUR_APPR_PROCESS_START</th>\n",
              "      <th>NFLAG_LAST_APPL_IN_DAY</th>\n",
              "      <th>SELLERPLACE_AREA</th>\n",
              "      <th>SK_ID_CURR</th>\n",
              "      <th>SK_ID_PREV</th>\n",
              "    </tr>\n",
              "  </thead>\n",
              "  <tbody>\n",
              "    <tr>\n",
              "      <th>AMT_APPLICATION</th>\n",
              "      <td>1.000000</td>\n",
              "      <td>0.976210</td>\n",
              "      <td>0.999840</td>\n",
              "      <td>0.136381</td>\n",
              "      <td>-0.015425</td>\n",
              "      <td>0.005274</td>\n",
              "      <td>-0.003572</td>\n",
              "      <td>-0.004898</td>\n",
              "      <td>0.000977</td>\n",
              "    </tr>\n",
              "    <tr>\n",
              "      <th>AMT_CREDIT</th>\n",
              "      <td>0.976210</td>\n",
              "      <td>1.000000</td>\n",
              "      <td>0.993635</td>\n",
              "      <td>0.140069</td>\n",
              "      <td>-0.025864</td>\n",
              "      <td>-0.023024</td>\n",
              "      <td>-0.004451</td>\n",
              "      <td>-0.006082</td>\n",
              "      <td>0.003290</td>\n",
              "    </tr>\n",
              "    <tr>\n",
              "      <th>AMT_GOODS_PRICE</th>\n",
              "      <td>0.999840</td>\n",
              "      <td>0.993635</td>\n",
              "      <td>1.000000</td>\n",
              "      <td>0.279995</td>\n",
              "      <td>-0.046794</td>\n",
              "      <td>-0.013706</td>\n",
              "      <td>-0.006927</td>\n",
              "      <td>-0.006005</td>\n",
              "      <td>0.011112</td>\n",
              "    </tr>\n",
              "    <tr>\n",
              "      <th>DAYS_DECISION</th>\n",
              "      <td>0.136381</td>\n",
              "      <td>0.140069</td>\n",
              "      <td>0.279995</td>\n",
              "      <td>1.000000</td>\n",
              "      <td>-0.035044</td>\n",
              "      <td>0.006481</td>\n",
              "      <td>-0.006895</td>\n",
              "      <td>-0.010901</td>\n",
              "      <td>0.015885</td>\n",
              "    </tr>\n",
              "    <tr>\n",
              "      <th>HOUR_APPR_PROCESS_START</th>\n",
              "      <td>-0.015425</td>\n",
              "      <td>-0.025864</td>\n",
              "      <td>-0.046794</td>\n",
              "      <td>-0.035044</td>\n",
              "      <td>1.000000</td>\n",
              "      <td>0.013258</td>\n",
              "      <td>0.017127</td>\n",
              "      <td>-0.001227</td>\n",
              "      <td>0.000228</td>\n",
              "    </tr>\n",
              "    <tr>\n",
              "      <th>NFLAG_LAST_APPL_IN_DAY</th>\n",
              "      <td>0.005274</td>\n",
              "      <td>-0.023024</td>\n",
              "      <td>-0.013706</td>\n",
              "      <td>0.006481</td>\n",
              "      <td>0.013258</td>\n",
              "      <td>1.000000</td>\n",
              "      <td>0.000640</td>\n",
              "      <td>0.001066</td>\n",
              "      <td>0.000214</td>\n",
              "    </tr>\n",
              "    <tr>\n",
              "      <th>SELLERPLACE_AREA</th>\n",
              "      <td>-0.003572</td>\n",
              "      <td>-0.004451</td>\n",
              "      <td>-0.006927</td>\n",
              "      <td>-0.006895</td>\n",
              "      <td>0.017127</td>\n",
              "      <td>0.000640</td>\n",
              "      <td>1.000000</td>\n",
              "      <td>-0.000306</td>\n",
              "      <td>0.009285</td>\n",
              "    </tr>\n",
              "    <tr>\n",
              "      <th>SK_ID_CURR</th>\n",
              "      <td>-0.004898</td>\n",
              "      <td>-0.006082</td>\n",
              "      <td>-0.006005</td>\n",
              "      <td>-0.010901</td>\n",
              "      <td>-0.001227</td>\n",
              "      <td>0.001066</td>\n",
              "      <td>-0.000306</td>\n",
              "      <td>1.000000</td>\n",
              "      <td>-0.000715</td>\n",
              "    </tr>\n",
              "    <tr>\n",
              "      <th>SK_ID_PREV</th>\n",
              "      <td>0.000977</td>\n",
              "      <td>0.003290</td>\n",
              "      <td>0.011112</td>\n",
              "      <td>0.015885</td>\n",
              "      <td>0.000228</td>\n",
              "      <td>0.000214</td>\n",
              "      <td>0.009285</td>\n",
              "      <td>-0.000715</td>\n",
              "      <td>1.000000</td>\n",
              "    </tr>\n",
              "  </tbody>\n",
              "</table>\n",
              "</div>"
            ],
            "text/plain": [
              "                         AMT_APPLICATION  AMT_CREDIT  ...  SK_ID_CURR  SK_ID_PREV\n",
              "AMT_APPLICATION                 1.000000    0.976210  ...   -0.004898    0.000977\n",
              "AMT_CREDIT                      0.976210    1.000000  ...   -0.006082    0.003290\n",
              "AMT_GOODS_PRICE                 0.999840    0.993635  ...   -0.006005    0.011112\n",
              "DAYS_DECISION                   0.136381    0.140069  ...   -0.010901    0.015885\n",
              "HOUR_APPR_PROCESS_START        -0.015425   -0.025864  ...   -0.001227    0.000228\n",
              "NFLAG_LAST_APPL_IN_DAY          0.005274   -0.023024  ...    0.001066    0.000214\n",
              "SELLERPLACE_AREA               -0.003572   -0.004451  ...   -0.000306    0.009285\n",
              "SK_ID_CURR                     -0.004898   -0.006082  ...    1.000000   -0.000715\n",
              "SK_ID_PREV                      0.000977    0.003290  ...   -0.000715    1.000000\n",
              "\n",
              "[9 rows x 9 columns]"
            ]
          },
          "metadata": {
            "tags": []
          },
          "execution_count": 61
        }
      ]
    },
    {
      "cell_type": "code",
      "metadata": {
        "id": "NQ49PAVAeG4q",
        "colab_type": "code",
        "colab": {
          "base_uri": "https://localhost:8080/",
          "height": 642
        },
        "outputId": "74f5ed38-effb-4669-835a-0d483e6d3c36"
      },
      "source": [
        "# Plotting a corelation matrix, \n",
        "# to get an understanding of the corelation between different variables of the dataframe.\n",
        "fig, ax = plt.subplots(figsize=(10, 8))\n",
        "corr = df2.corr()\n",
        "sns.heatmap(corr,\n",
        "            xticklabels=corr.columns.values,\n",
        "            yticklabels=corr.columns.values)"
      ],
      "execution_count": 66,
      "outputs": [
        {
          "output_type": "execute_result",
          "data": {
            "text/plain": [
              "<matplotlib.axes._subplots.AxesSubplot at 0x7f4c4931cdd8>"
            ]
          },
          "metadata": {
            "tags": []
          },
          "execution_count": 66
        },
        {
          "output_type": "display_data",
          "data": {
            "image/png": "[encoded data removed]",
            "text/plain": [
              "<Figure size 720x576 with 2 Axes>"
            ]
          },
          "metadata": {
            "tags": []
          }
        }
      ]
    },
    {
      "cell_type": "code",
      "metadata": {
        "id": "wjxQyhKaE1Z-",
        "colab_type": "code",
        "colab": {}
      },
      "source": [
        "# This is the list of important features - Add more as we finf important\n",
        "# list of numerical & categorical columns \n",
        "feature_list_numerical = ['AMT_APPLICATION', 'AMT_CREDIT']\n",
        "feature_list_categorical = ['NAME_CONTRACT_TYPE', 'NAME_CONTRACT_STATUS', 'CODE_REJECT_REASON', 'NAME_GOODS_CATEGORY', 'NAME_YIELD_GROUP']"
      ],
      "execution_count": 0,
      "outputs": []
    },
    {
      "cell_type": "code",
      "metadata": {
        "id": "81_lrfWa3vJM",
        "colab_type": "code",
        "colab": {
          "base_uri": "https://localhost:8080/",
          "height": 761
        },
        "outputId": "0795a654-e579-4fd5-bcc3-41b7e1f668ec"
      },
      "source": [
        "# Plotting the numerical variables for univariate analysis, i.e., plotting histograms to note the frequency of no. of applications filed and the no. of applications credited\n",
        "\n",
        "fig2, ax = plt.subplots(len(feature_list_numerical), figsize=(20,12))\n",
        "\n",
        "for i, col_val in enumerate(feature_list_numerical):\n",
        "    print(type(col_val))\n",
        "    sns.distplot(df2[col_val], hist=True, ax=ax[i])\n",
        "    try:\n",
        "        ax[i].set_title('Freq dist ', fontsize=10)\n",
        "    except :\n",
        "        ax[i].set_title('Freq dist ', fontsize=10)\n",
        "    ax[i].set_xlabel(col_val, fontsize=8)\n",
        "    ax[i].set_ylabel('Count', fontsize=8)\n",
        "\n",
        "plt.show()"
      ],
      "execution_count": 72,
      "outputs": [
        {
          "output_type": "stream",
          "text": [
            "<class 'str'>\n",
            "<class 'str'>\n"
          ],
          "name": "stdout"
        },
        {
          "output_type": "display_data",
          "data": {
            "image/png": "[encoded data removed]",
            "text/plain": [
              "<Figure size 1440x864 with 2 Axes>"
            ]
          },
          "metadata": {
            "tags": []
          }
        }
      ]
    },
    {
      "cell_type": "code",
      "metadata": {
        "id": "1xJHw8aETcw7",
        "colab_type": "code",
        "colab": {
          "base_uri": "https://localhost:8080/",
          "height": 458
        },
        "outputId": "8cab2682-d0c2-4013-d523-371fff93f3c8"
      },
      "source": [
        "# Understanding the nature of categorical variables by plotting bar plots and checking the application status for a certain application amount\n",
        "fig3 = sns.catplot(x=\"NAME_CONTRACT_TYPE\", y=\"AMT_APPLICATION\", hue=\"NAME_CONTRACT_STATUS\", data=df2, height=6, kind=\"bar\", palette=\"muted\")\n",
        "fig3.despine(left=True)\n",
        "fig3.set_ylabels(\"AMT_APPLICATION\")"
      ],
      "execution_count": 82,
      "outputs": [
        {
          "output_type": "execute_result",
          "data": {
            "text/plain": [
              "<seaborn.axisgrid.FacetGrid at 0x7f4c48f6f940>"
            ]
          },
          "metadata": {
            "tags": []
          },
          "execution_count": 82
        },
        {
          "output_type": "display_data",
          "data": {
            "image/png": "[encoded data removed]",
            "text/plain": [
              "<Figure size 572.75x432 with 1 Axes>"
            ]
          },
          "metadata": {
            "tags": []
          }
        }
      ]
    }
  ]
}